{
  "nbformat": 4,
  "nbformat_minor": 0,
  "metadata": {
    "colab": {
      "name": "1. Introduction.ipynb",
      "version": "0.3.2",
      "provenance": [],
      "toc_visible": true,
      "include_colab_link": true
    },
    "kernelspec": {
      "display_name": "Python 2",
      "language": "python",
      "name": "python2"
    }
  },
  "cells": [
    {
      "cell_type": "markdown",
      "metadata": {
        "id": "view-in-github",
        "colab_type": "text"
      },
      "source": [
        "<a href=\"https://colab.research.google.com/github/sbme-tutorials/measurements-sheets/blob/master/notebooks/1.%20Introduction.ipynb\" target=\"_parent\"><img src=\"https://colab.research.google.com/assets/colab-badge.svg\" alt=\"Open In Colab\"/></a>"
      ]
    },
    {
      "metadata": {
        "id": "TYaSkNyuszOZ",
        "colab_type": "text"
      },
      "cell_type": "markdown",
      "source": [
        "> **The fact that data science exists as a field is a colossal failure of statistics ** - Hadley Wickham\n",
        "\n",
        "\n",
        "# THERE ARE HACKS, DAMN HACKS, AND THERE ARE STATISTICS  \n",
        "\n",
        "\n",
        "Statistics, to most people, is a bunch of formulae, yes - invariably complicated with strong assumptions. Very few practitioners in fields outside math can derive those from first principles. But is it necessarily need to be that way?\n",
        "\n",
        "## Philosophy for this workshop\n",
        "Instead of a formula-based, discretely-structured classical framework for teaching statistics, we believe in the hackers' philosophy of DIY. \n",
        "> **I hear and I forget. I see and I remember. I do and I understand  - Confucius** \n",
        "\n",
        "What is the point of learning something if you don't know how and where to apply that? We aim to bridge that gap a bit.\n",
        "\n",
        "## Data Analysis\n",
        "\n",
        "The art of data analysis\n",
        "\n",
        "> https://github.com/amitkaps/weed/blob/master/0-Intro.ipynb\n",
        "\n",
        "#                Statistics: Inferring results about a population given a sample\n",
        "\n",
        "\n",
        "# *Where does statistics fit in Business Anaytics?*\n",
        "\n",
        "> Many things\n",
        "\n"
      ]
    },
    {
      "metadata": {
        "id": "SbBvb5H7szOf",
        "colab_type": "code",
        "colab": {}
      },
      "cell_type": "code",
      "source": [
        ""
      ],
      "execution_count": 0,
      "outputs": []
    }
  ]
}